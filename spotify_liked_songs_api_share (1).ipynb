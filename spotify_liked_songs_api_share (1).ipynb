{
 "cells": [
  {
   "cell_type": "code",
   "execution_count": 1,
   "metadata": {},
   "outputs": [],
   "source": [
    "import requests\n",
    "import pandas as pd"
   ]
  },
  {
   "cell_type": "code",
   "execution_count": null,
   "metadata": {},
   "outputs": [],
   "source": [
    "# Replace this with the access token you received from local host login\n",
    "ACCESS_TOKEN = \"\"\n",
    "# Set up the headers with the access token\n",
    "headers = {\n",
    "    \"Authorization\": f\"Bearer {ACCESS_TOKEN}\"\n",
    "}\n",
    "\n",
    "# Spotify API endpoint for liked songs\n",
    "url = \"https://api.spotify.com/v1/me/tracks\""
   ]
  },
  {
   "cell_type": "code",
   "execution_count": null,
   "metadata": {},
   "outputs": [],
   "source": [
    "# Without paging - get 20 liked songs \n",
    "\n",
    "# Step 2: Make the API request\n",
    "response = requests.get(url, headers=headers)\n",
    "if response.status_code == 200:\n",
    "    data = response.json()\n",
    "    \n",
    "    # Step 3: Extract song titles from the response\n",
    "    liked_songs = [item['track']['name'] for item in data['items']]\n",
    "    print(\"Liked Songs:\", liked_songs)\n",
    "else:\n",
    "    print(f\"Error: {response.status_code}, {response.json()}\")\n"
   ]
  },
  {
   "cell_type": "code",
   "execution_count": null,
   "metadata": {},
   "outputs": [],
   "source": [
    "liked_songs = []\n",
    "url = \"https://api.spotify.com/v1/me/tracks\"\n",
    "\n",
    "# Loop through pages of liked songs - This allows you to get all liked songs\n",
    "offset = 0\n",
    "while True:\n",
    "    response = requests.get(url, headers=headers, params={\"limit\": 50, \"offset\": offset})\n",
    "    if response.status_code == 200:\n",
    "        data = response.json()\n",
    "        \n",
    "        # Append song titles to the list\n",
    "        liked_songs.extend([item['track']['name'] for item in data['items']])\n",
    "        \n",
    "        # Check if there are more songs to fetch\n",
    "        if len(data['items']) < 50:\n",
    "            break  # No more songs\n",
    "        offset += 50  # Move to the next page\n",
    "    else:\n",
    "        print(f\"Error: {response.status_code}, {response.json()}\")\n",
    "        break\n",
    "\n",
    "print(\"Liked Songs:\", liked_songs)\n"
   ]
  },
  {
   "cell_type": "code",
   "execution_count": 6,
   "metadata": {},
   "outputs": [],
   "source": [
    "# Save list to a text file, one title per line\n",
    "with open(\"liked_songs.txt\", \"w\", encoding='utf-8-sig') as f:\n",
    "    for song in liked_songs:\n",
    "        f.write(song + \"\\n\")"
   ]
  }
 ],
 "metadata": {
  "kernelspec": {
   "display_name": "EDA",
   "language": "python",
   "name": "python3"
  },
  "language_info": {
   "codemirror_mode": {
    "name": "ipython",
    "version": 3
   },
   "file_extension": ".py",
   "mimetype": "text/x-python",
   "name": "python",
   "nbconvert_exporter": "python",
   "pygments_lexer": "ipython3",
   "version": "3.12.2"
  }
 },
 "nbformat": 4,
 "nbformat_minor": 2
}
